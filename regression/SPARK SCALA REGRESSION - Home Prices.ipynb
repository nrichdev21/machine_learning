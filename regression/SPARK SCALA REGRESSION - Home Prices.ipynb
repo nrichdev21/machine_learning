{
 "cells": [
  {
   "cell_type": "code",
   "execution_count": 1,
   "metadata": {},
   "outputs": [
    {
     "data": {
      "text/plain": [
       "Intitializing Scala interpreter ..."
      ]
     },
     "metadata": {},
     "output_type": "display_data"
    },
    {
     "data": {
      "text/plain": [
       "Spark Web UI available at http://MSI:4040\n",
       "SparkContext available as 'sc' (version = 3.0.0, master = local[*], app id = local-1605152316365)\n",
       "SparkSession available as 'spark'\n"
      ]
     },
     "metadata": {},
     "output_type": "display_data"
    },
    {
     "data": {
      "text/plain": [
       "import org.apache.spark.sql.SparkSession\r\n",
       "import org.apache.spark.ml.regression.LinearRegression\r\n",
       "import org.apache.spark.ml.feature.VectorAssembler\r\n",
       "import org.apache.spark.ml.linalg.Vectors\r\n",
       "import org.apache.log4j._\r\n",
       "spark: org.apache.spark.sql.SparkSession = org.apache.spark.sql.SparkSession@7d5bdaa\r\n"
      ]
     },
     "execution_count": 1,
     "metadata": {},
     "output_type": "execute_result"
    }
   ],
   "source": [
    "import org.apache.spark.sql.SparkSession\n",
    "import org.apache.spark.ml.regression.LinearRegression\n",
    "import org.apache.spark.ml.feature.VectorAssembler\n",
    "import org.apache.spark.ml.linalg.Vectors\n",
    "\n",
    "import org.apache.log4j._\n",
    "Logger.getLogger(\"org\").setLevel(Level.ERROR)\n",
    "\n",
    "val spark = SparkSession.builder().getOrCreate()"
   ]
  },
  {
   "cell_type": "code",
   "execution_count": 2,
   "metadata": {},
   "outputs": [
    {
     "data": {
      "text/plain": [
       "housing_df: org.apache.spark.sql.DataFrame = [Avg Area Income: double, Avg Area House Age: double ... 5 more fields]\r\n"
      ]
     },
     "execution_count": 2,
     "metadata": {},
     "output_type": "execute_result"
    }
   ],
   "source": [
    "val housing_df = spark.read.option(\"header\",\"true\").option(\"inferSchema\",\"true\").option(\"multiline\", \"true\").format(\"csv\").load(\"../../data/ml_scala/USA_Housing.csv\")"
   ]
  },
  {
   "cell_type": "code",
   "execution_count": 3,
   "metadata": {},
   "outputs": [
    {
     "name": "stdout",
     "output_type": "stream",
     "text": [
      "root\n",
      " |-- Avg Area Income: double (nullable = true)\n",
      " |-- Avg Area House Age: double (nullable = true)\n",
      " |-- Avg Area Number of Rooms: double (nullable = true)\n",
      " |-- Avg Area Number of Bedrooms: double (nullable = true)\n",
      " |-- Area Population: double (nullable = true)\n",
      " |-- Price: double (nullable = true)\n",
      " |-- Address: string (nullable = true)\n",
      "\n",
      "+-------+------------------+------------------+------------------------+---------------------------+------------------+------------------+--------------------+\n",
      "|summary|   Avg Area Income|Avg Area House Age|Avg Area Number of Rooms|Avg Area Number of Bedrooms|   Area Population|             Price|             Address|\n",
      "+-------+------------------+------------------+------------------------+---------------------------+------------------+------------------+--------------------+\n",
      "|  count|              5000|              5000|                    5000|                       5000|              5000|              5000|                5000|\n",
      "|   mean| 68583.10898395971|  5.97722203528029|       6.987791850907942|         3.9813299999999967| 36163.51603857463|  1232072.65414236|                null|\n",
      "| stddev|10657.991213830363|0.9914561798281722|      1.0058332312773866|         1.2341372654846832| 9925.650113501246|353117.62658106035|                null|\n",
      "|    min|17796.631189543397| 2.644304186036705|      3.2361940234262048|                        2.0|172.61068627290044|15938.657923287848|000 Adkins Cresce...|\n",
      "|    max|107701.74837763935|  9.51908806613594|      10.759588335938624|                        6.5|  69621.7133777904|2469065.5941747027|Unit 9871 Box 903...|\n",
      "+-------+------------------+------------------+------------------------+---------------------------+------------------+------------------+--------------------+\n",
      "\n",
      "+------------------+------------------+------------------------+---------------------------+------------------+------------------+--------------------+\n",
      "|   Avg Area Income|Avg Area House Age|Avg Area Number of Rooms|Avg Area Number of Bedrooms|   Area Population|             Price|             Address|\n",
      "+------------------+------------------+------------------------+---------------------------+------------------+------------------+--------------------+\n",
      "| 79545.45857431678| 5.682861321615587|       7.009188142792237|                       4.09|23086.800502686456|1059033.5578701235|208 Michael Ferry...|\n",
      "| 79248.64245482568|6.0028998082752425|       6.730821019094919|                       3.09| 40173.07217364482|  1505890.91484695|188 Johnson Views...|\n",
      "|61287.067178656784| 5.865889840310001|       8.512727430375099|                       5.13| 36882.15939970458|1058987.9878760849|9127 Elizabeth St...|\n",
      "| 63345.24004622798|7.1882360945186425|       5.586728664827653|                       3.26| 34310.24283090706|1260616.8066294468|USS Barnett\n",
      "FPO A...|\n",
      "|59982.197225708034| 5.040554523106283|       7.839387785120487|                       4.23|26354.109472103148| 630943.4893385402|USNS Raymond\n",
      "FPO ...|\n",
      "+------------------+------------------+------------------------+---------------------------+------------------+------------------+--------------------+\n",
      "only showing top 5 rows\n",
      "\n"
     ]
    }
   ],
   "source": [
    "housing_df.printSchema()\n",
    "housing_df.describe().show()\n",
    "housing_df.show(5)"
   ]
  },
  {
   "cell_type": "code",
   "execution_count": 4,
   "metadata": {},
   "outputs": [
    {
     "name": "stdout",
     "output_type": "stream",
     "text": [
      "\n",
      "\n",
      "Example Data Row\n",
      "Avg Area House Age\n",
      "5.682861321615587\n",
      "\n",
      "\n",
      "Avg Area Number of Rooms\n",
      "7.009188142792237\n",
      "\n",
      "\n",
      "Avg Area Number of Bedrooms\n",
      "4.09\n",
      "\n",
      "\n",
      "Area Population\n",
      "23086.800502686456\n",
      "\n",
      "\n",
      "Price\n",
      "1059033.5578701235\n",
      "\n",
      "\n",
      "Address\n",
      "208 Michael Ferry Apt. 674\n",
      "Laurabury, NE 37010-5101\n",
      "\n",
      "\n"
     ]
    },
    {
     "data": {
      "text/plain": [
       "colnames: Array[String] = Array(Avg Area Income, Avg Area House Age, Avg Area Number of Rooms, Avg Area Number of Bedrooms, Area Population, Price, Address)\r\n",
       "firstrow: org.apache.spark.sql.Row =\r\n",
       "[79545.45857431678,5.682861321615587,7.009188142792237,4.09,23086.800502686456,1059033.5578701235,208 Michael Ferry Apt. 674\r\n",
       "Laurabury, NE 37010-5101]\r\n"
      ]
     },
     "execution_count": 4,
     "metadata": {},
     "output_type": "execute_result"
    }
   ],
   "source": [
    "// Cleaner way of printing out one row of data\n",
    "val colnames = housing_df.columns\n",
    "val firstrow = housing_df.head(1)(0)\n",
    "println(\"\\n\")\n",
    "println(\"Example Data Row\")\n",
    "for(ind <- Range(1,colnames.length)){\n",
    "  println(colnames(ind))\n",
    "  println(firstrow(ind))\n",
    "  println(\"\\n\")\n",
    "}"
   ]
  },
  {
   "cell_type": "code",
   "execution_count": 5,
   "metadata": {},
   "outputs": [
    {
     "data": {
      "text/plain": [
       "res2: Array[String] = Array(Avg Area Income, Avg Area House Age, Avg Area Number of Rooms, Avg Area Number of Bedrooms, Area Population, Price, Address)\r\n"
      ]
     },
     "execution_count": 5,
     "metadata": {},
     "output_type": "execute_result"
    }
   ],
   "source": [
    "housing_df.columns"
   ]
  },
  {
   "cell_type": "code",
   "execution_count": 6,
   "metadata": {},
   "outputs": [
    {
     "data": {
      "text/plain": [
       "df: org.apache.spark.sql.DataFrame = [label: double, Avg Area Income: double ... 4 more fields]\r\n"
      ]
     },
     "execution_count": 6,
     "metadata": {},
     "output_type": "execute_result"
    }
   ],
   "source": [
    "// Prep dataframe to include features and label\n",
    "val df = (housing_df.select(housing_df(\"Price\").as(\"label\"),\n",
    "                            $\"Avg Area Income\", $\"Avg Area House Age\", $\"Avg Area Number of Rooms\",\n",
    "                            $\"Avg Area Number of Bedrooms\", $\"Area Population\"))"
   ]
  },
  {
   "cell_type": "code",
   "execution_count": 7,
   "metadata": {},
   "outputs": [
    {
     "name": "stdout",
     "output_type": "stream",
     "text": [
      "root\n",
      " |-- label: double (nullable = true)\n",
      " |-- Avg Area Income: double (nullable = true)\n",
      " |-- Avg Area House Age: double (nullable = true)\n",
      " |-- Avg Area Number of Rooms: double (nullable = true)\n",
      " |-- Avg Area Number of Bedrooms: double (nullable = true)\n",
      " |-- Area Population: double (nullable = true)\n",
      "\r\n"
     ]
    }
   ],
   "source": [
    "df.printSchema()"
   ]
  },
  {
   "cell_type": "code",
   "execution_count": 8,
   "metadata": {},
   "outputs": [
    {
     "name": "stdout",
     "output_type": "stream",
     "text": [
      "+------------------+--------------------+\n",
      "|             label|            features|\n",
      "+------------------+--------------------+\n",
      "|1059033.5578701235|[79545.4585743167...|\n",
      "|  1505890.91484695|[79248.6424548256...|\n",
      "|1058987.9878760849|[61287.0671786567...|\n",
      "|1260616.8066294468|[63345.2400462279...|\n",
      "| 630943.4893385402|[59982.1972257080...|\n",
      "+------------------+--------------------+\n",
      "only showing top 5 rows\n",
      "\r\n"
     ]
    },
    {
     "data": {
      "text/plain": [
       "assembler: org.apache.spark.ml.feature.VectorAssembler = VectorAssembler: uid=vecAssembler_5905608f201e, handleInvalid=error, numInputCols=5\r\n",
       "output: org.apache.spark.sql.DataFrame = [label: double, features: vector]\r\n"
      ]
     },
     "execution_count": 8,
     "metadata": {},
     "output_type": "execute_result"
    }
   ],
   "source": [
    "val assembler = (new VectorAssembler()\n",
    "                 .setInputCols(Array(\"Avg Area Income\", \"Avg Area House Age\",\n",
    "                                    \"Avg Area Number of Rooms\", \"Avg Area Number of Bedrooms\",\n",
    "                                    \"Area Population\")).setOutputCol(\"features\"))\n",
    "\n",
    "val output = assembler.transform(df).select($\"label\",$\"features\")\n",
    "\n",
    "output.show(5)"
   ]
  },
  {
   "cell_type": "code",
   "execution_count": 9,
   "metadata": {},
   "outputs": [
    {
     "name": "stdout",
     "output_type": "stream",
     "text": [
      "+-------------------+\n",
      "|          residuals|\n",
      "+-------------------+\n",
      "|-164813.48488342203|\n",
      "| 10953.223229608731|\n",
      "|-194028.75820535584|\n",
      "| 139392.73897870723|\n",
      "|-214445.27695671446|\n",
      "+-------------------+\n",
      "only showing top 5 rows\n",
      "\r\n"
     ]
    },
    {
     "data": {
      "text/plain": [
       "lr: org.apache.spark.ml.regression.LinearRegression = linReg_37170cd6be88\r\n",
       "lrModel: org.apache.spark.ml.regression.LinearRegressionModel = LinearRegressionModel: uid=linReg_37170cd6be88, numFeatures=5\r\n",
       "trainingSummary: org.apache.spark.ml.regression.LinearRegressionTrainingSummary = org.apache.spark.ml.regression.LinearRegressionTrainingSummary@319756bd\r\n"
      ]
     },
     "execution_count": 9,
     "metadata": {},
     "output_type": "execute_result"
    }
   ],
   "source": [
    "// Create model and fit data\n",
    "val lr = new LinearRegression()\n",
    "\n",
    "val lrModel = lr.fit(output)\n",
    "\n",
    "val trainingSummary = lrModel.summary\n",
    "\n",
    "trainingSummary.residuals.show(5)"
   ]
  },
  {
   "cell_type": "code",
   "execution_count": 10,
   "metadata": {},
   "outputs": [
    {
     "name": "stdout",
     "output_type": "stream",
     "text": [
      "+------------------+--------------------+------------------+\n",
      "|             label|            features|        prediction|\n",
      "+------------------+--------------------+------------------+\n",
      "|1059033.5578701235|[79545.4585743167...|1223847.0427535456|\n",
      "|  1505890.91484695|[79248.6424548256...|1494937.6916173412|\n",
      "|1058987.9878760849|[61287.0671786567...|1253016.7460814407|\n",
      "|1260616.8066294468|[63345.2400462279...|1121224.0676507396|\n",
      "| 630943.4893385402|[59982.1972257080...| 845388.7662952547|\n",
      "+------------------+--------------------+------------------+\n",
      "only showing top 5 rows\n",
      "\r\n"
     ]
    }
   ],
   "source": [
    "// Examine Predictions\n",
    "trainingSummary.predictions.show(5)"
   ]
  },
  {
   "cell_type": "code",
   "execution_count": 11,
   "metadata": {},
   "outputs": [
    {
     "name": "stdout",
     "output_type": "stream",
     "text": [
      "Coefficients: [21.578049448352026,165637.02694091276,120659.94881629614,1651.1390539904344,15.200743923741493] Intercept: -2637299.033328577\n",
      "numIterations: 1\n",
      "objectiveHistory: List(0.0)\n"
     ]
    }
   ],
   "source": [
    "// Model Coefficients\n",
    "println(s\"Coefficients: ${lrModel.coefficients} Intercept: ${lrModel.intercept}\")\n",
    "println(s\"numIterations: ${trainingSummary.totalIterations}\")\n",
    "println(s\"objectiveHistory: ${trainingSummary.objectiveHistory.toList}\")"
   ]
  },
  {
   "cell_type": "code",
   "execution_count": 12,
   "metadata": {},
   "outputs": [
    {
     "name": "stdout",
     "output_type": "stream",
     "text": [
      "RMSE: 101092.70158252295\n",
      "MSE: 1.0219734313253036E10\n",
      "r2: 0.9180238195089548\n"
     ]
    }
   ],
   "source": [
    "// Model Performance\n",
    "println(s\"RMSE: ${trainingSummary.rootMeanSquaredError}\")\n",
    "println(s\"MSE: ${trainingSummary.meanSquaredError}\")\n",
    "println(s\"r2: ${trainingSummary.r2}\")"
   ]
  }
 ],
 "metadata": {
  "kernelspec": {
   "display_name": "spylon-kernel",
   "language": "scala",
   "name": "spylon-kernel"
  },
  "language_info": {
   "codemirror_mode": "text/x-scala",
   "file_extension": ".scala",
   "help_links": [
    {
     "text": "MetaKernel Magics",
     "url": "https://metakernel.readthedocs.io/en/latest/source/README.html"
    }
   ],
   "mimetype": "text/x-scala",
   "name": "scala",
   "pygments_lexer": "scala",
   "version": "0.4.1"
  }
 },
 "nbformat": 4,
 "nbformat_minor": 4
}
