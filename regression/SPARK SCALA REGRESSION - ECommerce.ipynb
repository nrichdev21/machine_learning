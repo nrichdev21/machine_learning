{
 "cells": [
  {
   "cell_type": "code",
   "execution_count": 1,
   "metadata": {},
   "outputs": [
    {
     "data": {
      "text/plain": [
       "Intitializing Scala interpreter ..."
      ]
     },
     "metadata": {},
     "output_type": "display_data"
    },
    {
     "data": {
      "text/plain": [
       "Spark Web UI available at http://MSI:4040\n",
       "SparkContext available as 'sc' (version = 3.0.0, master = local[*], app id = local-1605206710326)\n",
       "SparkSession available as 'spark'\n"
      ]
     },
     "metadata": {},
     "output_type": "display_data"
    },
    {
     "data": {
      "text/plain": [
       "import org.apache.spark.sql.SparkSession\r\n",
       "import org.apache.spark.ml.regression.LinearRegression\r\n",
       "import org.apache.spark.ml.feature.VectorAssembler\r\n",
       "import org.apache.spark.ml.linalg.Vectors\r\n",
       "import org.apache.log4j._\r\n",
       "spark: org.apache.spark.sql.SparkSession = org.apache.spark.sql.SparkSession@7d5bdaa\r\n"
      ]
     },
     "execution_count": 1,
     "metadata": {},
     "output_type": "execute_result"
    }
   ],
   "source": [
    "import org.apache.spark.sql.SparkSession\n",
    "import org.apache.spark.ml.regression.LinearRegression\n",
    "import org.apache.spark.ml.feature.VectorAssembler\n",
    "import org.apache.spark.ml.linalg.Vectors\n",
    "\n",
    "import org.apache.log4j._\n",
    "Logger.getLogger(\"org\").setLevel(Level.ERROR)\n",
    "\n",
    "val spark = SparkSession.builder().getOrCreate()"
   ]
  },
  {
   "cell_type": "code",
   "execution_count": 2,
   "metadata": {},
   "outputs": [
    {
     "data": {
      "text/plain": [
       "df: org.apache.spark.sql.DataFrame = [Email: string, Address: string ... 6 more fields]\r\n"
      ]
     },
     "execution_count": 2,
     "metadata": {},
     "output_type": "execute_result"
    }
   ],
   "source": [
    "val df = (spark.read.option(\"header\",\"true\").option(\"inferSchema\",\"true\")\n",
    "          .option(\"multiline\",\"true\").format(\"csv\")\n",
    "          .load(\"../../data/ml_scala/Ecommerce Customers\"))"
   ]
  },
  {
   "cell_type": "code",
   "execution_count": 3,
   "metadata": {},
   "outputs": [
    {
     "name": "stdout",
     "output_type": "stream",
     "text": [
      "root\n",
      " |-- Email: string (nullable = true)\n",
      " |-- Address: string (nullable = true)\n",
      " |-- Avatar: string (nullable = true)\n",
      " |-- Avg Session Length: double (nullable = true)\n",
      " |-- Time on App: double (nullable = true)\n",
      " |-- Time on Website: double (nullable = true)\n",
      " |-- Length of Membership: double (nullable = true)\n",
      " |-- Yearly Amount Spent: double (nullable = true)\n",
      "\n",
      "+-------+-----------------+--------------------+-----------+------------------+------------------+------------------+--------------------+-------------------+\n",
      "|summary|            Email|             Address|     Avatar|Avg Session Length|       Time on App|   Time on Website|Length of Membership|Yearly Amount Spent|\n",
      "+-------+-----------------+--------------------+-----------+------------------+------------------+------------------+--------------------+-------------------+\n",
      "|  count|              500|                 500|        500|               500|               500|               500|                 500|                500|\n",
      "|   mean|             null|                null|       null|33.053193518196196|12.052487937166132| 37.06044542094858|  3.5334615559150553|   499.314038258591|\n",
      "| stddev|             null|                null|       null|0.9925631110845354|0.9942156084725423|1.0104889067564031|  0.9992775024112583|   79.3147815497068|\n",
      "|    min|aaron04@yahoo.com|0001 Mack Mill\n",
      "No...|  AliceBlue|29.532428967057946| 8.508152176032603| 33.91384724758464|  0.2699010899842742| 256.67058229005585|\n",
      "|    max|zscott@wright.com|Unit 7502 Box 834...|YellowGreen| 36.13966248879052|15.126994288792467|40.005181638101895|   6.922689335035807|  765.5184619388372|\n",
      "+-------+-----------------+--------------------+-----------+------------------+------------------+------------------+--------------------+-------------------+\n",
      "\n",
      "+--------------------+--------------------+----------------+------------------+------------------+------------------+--------------------+-------------------+\n",
      "|               Email|             Address|          Avatar|Avg Session Length|       Time on App|   Time on Website|Length of Membership|Yearly Amount Spent|\n",
      "+--------------------+--------------------+----------------+------------------+------------------+------------------+--------------------+-------------------+\n",
      "|mstephenson@ferna...|835 Frank Tunnel\n",
      "...|          Violet| 34.49726772511229|12.655651149166752| 39.57766801952616|   4.082620632952961|  587.9510539684005|\n",
      "|   hduke@hotmail.com|4547 Archer Commo...|       DarkGreen|31.926272026360156|11.109460728682564|37.268958868297744|    2.66403418213262|  392.2049334443264|\n",
      "|    pallen@yahoo.com|24645 Valerie Uni...|          Bisque|33.000914755642675|11.330278057777512| 37.11059744212085|   4.104543202376424| 487.54750486747207|\n",
      "|riverarebecca@gma...|1414 David Throug...|     SaddleBrown| 34.30555662975554|13.717513665142508| 36.72128267790313|  3.1201787827480914|  581.8523440352178|\n",
      "|mstephens@davidso...|14023 Rodriguez P...|MediumAquaMarine| 33.33067252364639|12.795188551078114| 37.53665330059473|   4.446308318351435|  599.4060920457634|\n",
      "+--------------------+--------------------+----------------+------------------+------------------+------------------+--------------------+-------------------+\n",
      "only showing top 5 rows\n",
      "\n"
     ]
    }
   ],
   "source": [
    "df.printSchema()\n",
    "df.describe().show()\n",
    "df.show(5)"
   ]
  },
  {
   "cell_type": "code",
   "execution_count": 4,
   "metadata": {},
   "outputs": [
    {
     "name": "stdout",
     "output_type": "stream",
     "text": [
      "\n",
      "\n",
      "Example Data Row\n",
      "Address\n",
      "835 Frank Tunnel\n",
      "Wrightmouth, MI 82180-9605\n",
      "\n",
      "\n",
      "Avatar\n",
      "Violet\n",
      "\n",
      "\n",
      "Avg Session Length\n",
      "34.49726772511229\n",
      "\n",
      "\n",
      "Time on App\n",
      "12.655651149166752\n",
      "\n",
      "\n",
      "Time on Website\n",
      "39.57766801952616\n",
      "\n",
      "\n",
      "Length of Membership\n",
      "4.082620632952961\n",
      "\n",
      "\n",
      "Yearly Amount Spent\n",
      "587.9510539684005\n",
      "\n",
      "\n"
     ]
    },
    {
     "data": {
      "text/plain": [
       "colnames: Array[String] = Array(Email, Address, Avatar, Avg Session Length, Time on App, Time on Website, Length of Membership, Yearly Amount Spent)\r\n",
       "firstrow: org.apache.spark.sql.Row =\r\n",
       "[mstephenson@fernandez.com,835 Frank Tunnel\r\n",
       "Wrightmouth, MI 82180-9605,Violet,34.49726772511229,12.655651149166752,39.57766801952616,4.082620632952961,587.9510539684005]\r\n"
      ]
     },
     "execution_count": 4,
     "metadata": {},
     "output_type": "execute_result"
    }
   ],
   "source": [
    "// Print out one row of data to better visualize\n",
    "val colnames = df.columns\n",
    "val firstrow = df.head(1)(0)\n",
    "println(\"\\n\")\n",
    "println(\"Example Data Row\")\n",
    "for(ind <- Range(1,colnames.length)){\n",
    "  println(colnames(ind))\n",
    "  println(firstrow(ind))\n",
    "  println(\"\\n\")\n",
    "}"
   ]
  },
  {
   "cell_type": "code",
   "execution_count": 5,
   "metadata": {},
   "outputs": [
    {
     "data": {
      "text/plain": [
       "res2: Array[String] = Array(Email, Address, Avatar, Avg Session Length, Time on App, Time on Website, Length of Membership, Yearly Amount Spent)\r\n"
      ]
     },
     "execution_count": 5,
     "metadata": {},
     "output_type": "execute_result"
    }
   ],
   "source": [
    "df.columns"
   ]
  },
  {
   "cell_type": "code",
   "execution_count": 6,
   "metadata": {},
   "outputs": [
    {
     "name": "stdout",
     "output_type": "stream",
     "text": [
      "+------------------+------------------+------------------+------------------+--------------------+\n",
      "|             label|Avg Session Length|       Time on App|   Time on Website|Length of Membership|\n",
      "+------------------+------------------+------------------+------------------+--------------------+\n",
      "| 587.9510539684005| 34.49726772511229|12.655651149166752| 39.57766801952616|   4.082620632952961|\n",
      "| 392.2049334443264|31.926272026360156|11.109460728682564|37.268958868297744|    2.66403418213262|\n",
      "|487.54750486747207|33.000914755642675|11.330278057777512| 37.11059744212085|   4.104543202376424|\n",
      "| 581.8523440352178| 34.30555662975554|13.717513665142508| 36.72128267790313|  3.1201787827480914|\n",
      "| 599.4060920457634| 33.33067252364639|12.795188551078114| 37.53665330059473|   4.446308318351435|\n",
      "+------------------+------------------+------------------+------------------+--------------------+\n",
      "only showing top 5 rows\n",
      "\r\n"
     ]
    },
    {
     "data": {
      "text/plain": [
       "df2: org.apache.spark.sql.DataFrame = [label: double, Avg Session Length: double ... 3 more fields]\r\n"
      ]
     },
     "execution_count": 6,
     "metadata": {},
     "output_type": "execute_result"
    }
   ],
   "source": [
    "val df2 = (df.select(df(\"Yearly Amount Spent\").as(\"label\"),\n",
    "                     $\"Avg Session Length\", $\"Time on App\", \n",
    "                     $\"Time on Website\", $\"Length of Membership\"))\n",
    "\n",
    "df2.show(5)"
   ]
  },
  {
   "cell_type": "code",
   "execution_count": 7,
   "metadata": {},
   "outputs": [
    {
     "name": "stdout",
     "output_type": "stream",
     "text": [
      "+------------------+--------------------+\n",
      "|             label|            features|\n",
      "+------------------+--------------------+\n",
      "| 587.9510539684005|[34.4972677251122...|\n",
      "| 392.2049334443264|[31.9262720263601...|\n",
      "|487.54750486747207|[33.0009147556426...|\n",
      "| 581.8523440352178|[34.3055566297555...|\n",
      "| 599.4060920457634|[33.3306725236463...|\n",
      "+------------------+--------------------+\n",
      "only showing top 5 rows\n",
      "\r\n"
     ]
    },
    {
     "data": {
      "text/plain": [
       "assembler: org.apache.spark.ml.feature.VectorAssembler = VectorAssembler: uid=vecAssembler_f9c5b31fc3ba, handleInvalid=error, numInputCols=4\r\n",
       "output: org.apache.spark.sql.DataFrame = [label: double, features: vector]\r\n"
      ]
     },
     "execution_count": 7,
     "metadata": {},
     "output_type": "execute_result"
    }
   ],
   "source": [
    "val assembler = (new VectorAssembler()\n",
    "                 .setInputCols(Array(\"Avg Session Length\", \"Time on App\",\n",
    "                                     \"Time on Website\", \"Length of Membership\"))\n",
    "                 .setOutputCol(\"features\"))\n",
    "\n",
    "val output = assembler.transform(df2).select($\"label\",$\"features\")\n",
    "\n",
    "output.show(5)"
   ]
  },
  {
   "cell_type": "code",
   "execution_count": 8,
   "metadata": {},
   "outputs": [
    {
     "name": "stdout",
     "output_type": "stream",
     "text": [
      "+-------------------+\n",
      "|          residuals|\n",
      "+-------------------+\n",
      "|-6.7882340900329154|\n",
      "| 11.841128565334486|\n",
      "| -17.65262700858898|\n",
      "| 11.454889631168953|\n",
      "|  7.783382437305136|\n",
      "+-------------------+\n",
      "only showing top 5 rows\n",
      "\n",
      "+------------------+--------------------+------------------+\n",
      "|             label|            features|        prediction|\n",
      "+------------------+--------------------+------------------+\n",
      "| 587.9510539684005|[34.4972677251122...| 594.7392880584334|\n",
      "| 392.2049334443264|[31.9262720263601...| 380.3638048789919|\n",
      "|487.54750486747207|[33.0009147556426...|505.20013187606105|\n",
      "| 581.8523440352178|[34.3055566297555...| 570.3974544040489|\n",
      "| 599.4060920457634|[33.3306725236463...| 591.6227096084583|\n",
      "+------------------+--------------------+------------------+\n",
      "only showing top 5 rows\n",
      "\n"
     ]
    },
    {
     "data": {
      "text/plain": [
       "lr: org.apache.spark.ml.regression.LinearRegression = linReg_8b8f8ca06978\r\n",
       "lrModel: org.apache.spark.ml.regression.LinearRegressionModel = LinearRegressionModel: uid=linReg_8b8f8ca06978, numFeatures=4\r\n",
       "trainingSummary: org.apache.spark.ml.regression.LinearRegressionTrainingSummary = org.apache.spark.ml.regression.LinearRegressionTrainingSummary@59bf2548\r\n"
      ]
     },
     "execution_count": 8,
     "metadata": {},
     "output_type": "execute_result"
    }
   ],
   "source": [
    "// Create model and fit data\n",
    "val lr = new LinearRegression()\n",
    "\n",
    "val lrModel = lr.fit(output)\n",
    "\n",
    "val trainingSummary = lrModel.summary\n",
    "\n",
    "// Show some residuals\n",
    "trainingSummary.residuals.show(5)\n",
    "\n",
    "// Show some prediction\n",
    "trainingSummary.predictions.show(5)"
   ]
  },
  {
   "cell_type": "code",
   "execution_count": 9,
   "metadata": {},
   "outputs": [
    {
     "name": "stdout",
     "output_type": "stream",
     "text": [
      "Coefficients: [25.73427108467836,38.70915381082902,0.4367388355862311,61.577323754875984] Intercept: -1051.5942552993702\n",
      "numIterations: 1\n",
      "objectiveHistory: List(0.0)\n",
      "RMSE: 9.923256785022243\n",
      "MSE: 98.47102522148998\n",
      "r2: 0.9843155370226726\n"
     ]
    }
   ],
   "source": [
    "println(s\"Coefficients: ${lrModel.coefficients} Intercept: ${lrModel.intercept}\")\n",
    "println(s\"numIterations: ${trainingSummary.totalIterations}\")\n",
    "println(s\"objectiveHistory: ${trainingSummary.objectiveHistory.toList}\")\n",
    "\n",
    "// Model Performance\n",
    "println(s\"RMSE: ${trainingSummary.rootMeanSquaredError}\")\n",
    "println(s\"MSE: ${trainingSummary.meanSquaredError}\")\n",
    "println(s\"r2: ${trainingSummary.r2}\")"
   ]
  },
  {
   "cell_type": "code",
   "execution_count": 10,
   "metadata": {},
   "outputs": [],
   "source": [
    "spark.stop()"
   ]
  }
 ],
 "metadata": {
  "kernelspec": {
   "display_name": "spylon-kernel",
   "language": "scala",
   "name": "spylon-kernel"
  },
  "language_info": {
   "codemirror_mode": "text/x-scala",
   "file_extension": ".scala",
   "help_links": [
    {
     "text": "MetaKernel Magics",
     "url": "https://metakernel.readthedocs.io/en/latest/source/README.html"
    }
   ],
   "mimetype": "text/x-scala",
   "name": "scala",
   "pygments_lexer": "scala",
   "version": "0.4.1"
  }
 },
 "nbformat": 4,
 "nbformat_minor": 4
}
