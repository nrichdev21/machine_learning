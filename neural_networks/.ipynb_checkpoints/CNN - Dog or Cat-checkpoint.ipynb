{
 "cells": [
  {
   "cell_type": "code",
   "execution_count": 14,
   "metadata": {},
   "outputs": [],
   "source": [
    "\n",
    "import numpy as np\n",
    "import tensorflow as tf\n",
    "\n",
    "from keras.preprocessing.image import ImageDataGenerator\n",
    "from keras.preprocessing import image"
   ]
  },
  {
   "cell_type": "code",
   "execution_count": 15,
   "metadata": {},
   "outputs": [
    {
     "name": "stdout",
     "output_type": "stream",
     "text": [
      "Found 8000 images belonging to 2 classes.\n"
     ]
    }
   ],
   "source": [
    "# Training Set\n",
    "train_datagen = ImageDataGenerator(rescale = 1./255,\n",
    "                                   shear_range = 0.2,\n",
    "                                   zoom_range = 0.2,\n",
    "                                   horizontal_flip = True)\n",
    "\n",
    "training_set = train_datagen.flow_from_directory('../../data/data_images/training_set/',\n",
    "                                                 target_size = (64, 64),\n",
    "                                                 batch_size = 32,\n",
    "                                                 class_mode = 'binary')"
   ]
  },
  {
   "cell_type": "code",
   "execution_count": 16,
   "metadata": {},
   "outputs": [
    {
     "name": "stdout",
     "output_type": "stream",
     "text": [
      "Found 2000 images belonging to 2 classes.\n"
     ]
    }
   ],
   "source": [
    "# Test Set\n",
    "test_datagen = ImageDataGenerator(rescale = 1./255)\n",
    "test_set = test_datagen.flow_from_directory('../../data/data_images/test_set/',\n",
    "                                            target_size = (64, 64),\n",
    "                                            batch_size = 32,\n",
    "                                            class_mode = 'binary')"
   ]
  },
  {
   "cell_type": "code",
   "execution_count": 17,
   "metadata": {},
   "outputs": [],
   "source": [
    "# Build the CNN\n",
    "cnn = tf.keras.models.Sequential()\n",
    "\n",
    "# Convolution\n",
    "cnn.add(tf.keras.layers.Conv2D(filters=32, kernel_size=3, activation='relu', input_shape=[64, 64, 3]))\n",
    "\n",
    "# Pooling\n",
    "cnn.add(tf.keras.layers.MaxPool2D(pool_size=2, strides=2))\n",
    "\n",
    "# Adding a second convolutional layer\n",
    "cnn.add(tf.keras.layers.Conv2D(filters=32, kernel_size=3, activation='relu'))\n",
    "cnn.add(tf.keras.layers.MaxPool2D(pool_size=2, strides=2))\n",
    "\n",
    "# Flattening\n",
    "cnn.add(tf.keras.layers.Flatten())\n",
    "\n",
    "# Full Connection\n",
    "cnn.add(tf.keras.layers.Dense(units=128, activation='relu'))\n",
    "\n",
    "# Output Layer\n",
    "cnn.add(tf.keras.layers.Dense(units=1, activation='sigmoid'))\n",
    "\n",
    "# Compiling the CNN\n",
    "cnn.compile(optimizer = 'adam', loss = 'binary_crossentropy', metrics = ['accuracy'])"
   ]
  },
  {
   "cell_type": "code",
   "execution_count": 18,
   "metadata": {},
   "outputs": [
    {
     "name": "stdout",
     "output_type": "stream",
     "text": [
      "Epoch 1/25\n",
      "250/250 [==============================] - 18s 72ms/step - loss: 0.6837 - accuracy: 0.5575 - val_loss: 0.6371 - val_accuracy: 0.6380\n",
      "Epoch 2/25\n",
      "250/250 [==============================] - 17s 69ms/step - loss: 0.6255 - accuracy: 0.6518 - val_loss: 0.5804 - val_accuracy: 0.6910\n",
      "Epoch 3/25\n",
      "250/250 [==============================] - 17s 69ms/step - loss: 0.5821 - accuracy: 0.6936 - val_loss: 0.5556 - val_accuracy: 0.7235\n",
      "Epoch 4/25\n",
      "250/250 [==============================] - 18s 71ms/step - loss: 0.5445 - accuracy: 0.7212 - val_loss: 0.5614 - val_accuracy: 0.7135\n",
      "Epoch 5/25\n",
      "250/250 [==============================] - 19s 75ms/step - loss: 0.5127 - accuracy: 0.7429 - val_loss: 0.5463 - val_accuracy: 0.7195\n",
      "Epoch 6/25\n",
      "250/250 [==============================] - 19s 75ms/step - loss: 0.4869 - accuracy: 0.7620 - val_loss: 0.4766 - val_accuracy: 0.7715\n",
      "Epoch 7/25\n",
      "250/250 [==============================] - 19s 74ms/step - loss: 0.4674 - accuracy: 0.7770 - val_loss: 0.4657 - val_accuracy: 0.7870\n",
      "Epoch 8/25\n",
      "250/250 [==============================] - 19s 76ms/step - loss: 0.4481 - accuracy: 0.7897 - val_loss: 0.4799 - val_accuracy: 0.7775\n",
      "Epoch 9/25\n",
      "250/250 [==============================] - 19s 76ms/step - loss: 0.4501 - accuracy: 0.7870 - val_loss: 0.4541 - val_accuracy: 0.7885\n",
      "Epoch 10/25\n",
      "250/250 [==============================] - 19s 77ms/step - loss: 0.4311 - accuracy: 0.7980 - val_loss: 0.4492 - val_accuracy: 0.7935\n",
      "Epoch 11/25\n",
      "250/250 [==============================] - 19s 75ms/step - loss: 0.4144 - accuracy: 0.8066 - val_loss: 0.4541 - val_accuracy: 0.7905\n",
      "Epoch 12/25\n",
      "250/250 [==============================] - 19s 77ms/step - loss: 0.4039 - accuracy: 0.8158 - val_loss: 0.4616 - val_accuracy: 0.7895\n",
      "Epoch 13/25\n",
      "250/250 [==============================] - 19s 76ms/step - loss: 0.3904 - accuracy: 0.8246 - val_loss: 0.4762 - val_accuracy: 0.7665\n",
      "Epoch 14/25\n",
      "250/250 [==============================] - 19s 76ms/step - loss: 0.3838 - accuracy: 0.8267 - val_loss: 0.5207 - val_accuracy: 0.7530\n",
      "Epoch 15/25\n",
      "250/250 [==============================] - 19s 76ms/step - loss: 0.3621 - accuracy: 0.8380 - val_loss: 0.4772 - val_accuracy: 0.7915\n",
      "Epoch 16/25\n",
      "250/250 [==============================] - 19s 75ms/step - loss: 0.3716 - accuracy: 0.8378 - val_loss: 0.4501 - val_accuracy: 0.7915\n",
      "Epoch 17/25\n",
      "250/250 [==============================] - 19s 75ms/step - loss: 0.3524 - accuracy: 0.8430 - val_loss: 0.4490 - val_accuracy: 0.7960\n",
      "Epoch 18/25\n",
      "250/250 [==============================] - 19s 76ms/step - loss: 0.3310 - accuracy: 0.8590 - val_loss: 0.5246 - val_accuracy: 0.7815\n",
      "Epoch 19/25\n",
      "250/250 [==============================] - 19s 77ms/step - loss: 0.3320 - accuracy: 0.8564 - val_loss: 0.4743 - val_accuracy: 0.7990\n",
      "Epoch 20/25\n",
      "250/250 [==============================] - 19s 75ms/step - loss: 0.3155 - accuracy: 0.8630 - val_loss: 0.5093 - val_accuracy: 0.7910\n",
      "Epoch 21/25\n",
      "250/250 [==============================] - 19s 74ms/step - loss: 0.3088 - accuracy: 0.8643 - val_loss: 0.4642 - val_accuracy: 0.8070\n",
      "Epoch 22/25\n",
      "250/250 [==============================] - 19s 74ms/step - loss: 0.3009 - accuracy: 0.8679 - val_loss: 0.4721 - val_accuracy: 0.8030\n",
      "Epoch 23/25\n",
      "250/250 [==============================] - 19s 74ms/step - loss: 0.2726 - accuracy: 0.8861 - val_loss: 0.4746 - val_accuracy: 0.8020\n",
      "Epoch 24/25\n",
      "250/250 [==============================] - 19s 74ms/step - loss: 0.2661 - accuracy: 0.8844 - val_loss: 0.4916 - val_accuracy: 0.8090\n",
      "Epoch 25/25\n",
      "250/250 [==============================] - 19s 75ms/step - loss: 0.2677 - accuracy: 0.8899 - val_loss: 0.4800 - val_accuracy: 0.7980\n"
     ]
    },
    {
     "data": {
      "text/plain": [
       "<tensorflow.python.keras.callbacks.History at 0x1ce81a023d0>"
      ]
     },
     "execution_count": 18,
     "metadata": {},
     "output_type": "execute_result"
    }
   ],
   "source": [
    "# Train the model - Limiting to 25 epochs due to local machine capacity\n",
    "cnn.fit(x = training_set, validation_data = test_set, epochs = 25)"
   ]
  },
  {
   "cell_type": "code",
   "execution_count": 29,
   "metadata": {},
   "outputs": [
    {
     "name": "stdout",
     "output_type": "stream",
     "text": [
      "dog\n"
     ]
    }
   ],
   "source": [
    "# Try and predict a new image\n",
    "test_image = image.load_img('../../data/data_images/single_prediction/cat_or_dog_1.jpg', target_size = (64, 64))\n",
    "test_image = image.img_to_array(test_image)\n",
    "test_image = np.expand_dims(test_image, axis = 0)\n",
    "result = cnn.predict(test_image)\n",
    "training_set.class_indices\n",
    "if result[0][0] == 1:\n",
    "    prediction = 'dog'\n",
    "else:\n",
    "    prediction = 'cat'\n",
    "print(prediction)"
   ]
  },
  {
   "cell_type": "code",
   "execution_count": null,
   "metadata": {},
   "outputs": [],
   "source": []
  }
 ],
 "metadata": {
  "kernelspec": {
   "display_name": "Python 3",
   "language": "python",
   "name": "python3"
  },
  "language_info": {
   "codemirror_mode": {
    "name": "ipython",
    "version": 3
   },
   "file_extension": ".py",
   "mimetype": "text/x-python",
   "name": "python",
   "nbconvert_exporter": "python",
   "pygments_lexer": "ipython3",
   "version": "3.8.5"
  }
 },
 "nbformat": 4,
 "nbformat_minor": 4
}
