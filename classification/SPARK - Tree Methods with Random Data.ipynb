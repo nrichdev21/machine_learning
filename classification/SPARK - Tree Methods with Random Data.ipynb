{
 "cells": [
  {
   "cell_type": "code",
   "execution_count": 23,
   "metadata": {},
   "outputs": [],
   "source": [
    "import findspark\n",
    "findspark.init('/home/nick/spark-3.0.1-bin-hadoop2.7')\n",
    "\n",
    "from pyspark.sql import SparkSession\n",
    "\n",
    "from pyspark.ml import Pipeline\n",
    "from pyspark.ml.classification import RandomForestClassifier, GBTClassifier, DecisionTreeClassifier\n",
    "from pyspark.ml.evaluation import MulticlassClassificationEvaluator\n",
    "\n",
    "spark = SparkSession.builder.appName('Tree Methods').getOrCreate()"
   ]
  },
  {
   "cell_type": "code",
   "execution_count": 14,
   "metadata": {},
   "outputs": [
    {
     "name": "stdout",
     "output_type": "stream",
     "text": [
      "+-----+--------------------+\n",
      "|label|            features|\n",
      "+-----+--------------------+\n",
      "|  0.0|(692,[127,128,129...|\n",
      "|  1.0|(692,[158,159,160...|\n",
      "|  1.0|(692,[124,125,126...|\n",
      "|  1.0|(692,[152,153,154...|\n",
      "|  1.0|(692,[151,152,153...|\n",
      "+-----+--------------------+\n",
      "only showing top 5 rows\n",
      "\n"
     ]
    }
   ],
   "source": [
    "data = spark.read.format('libsvm').load('Tree_Methods/sample_libsvm_data.txt')\n",
    "data.show(5)"
   ]
  },
  {
   "cell_type": "code",
   "execution_count": 7,
   "metadata": {},
   "outputs": [],
   "source": [
    "train_data, test_data = data.randomSplit([0.7,0.3])"
   ]
  },
  {
   "cell_type": "code",
   "execution_count": 13,
   "metadata": {},
   "outputs": [],
   "source": [
    "dtc = DecisionTreeClassifier()\n",
    "rfc = RandomForestClassifier(numTrees=100)\n",
    "gbt = GBTClassifier()"
   ]
  },
  {
   "cell_type": "code",
   "execution_count": 18,
   "metadata": {},
   "outputs": [],
   "source": [
    "dtc_model = dtc.fit(train_data)\n",
    "rfc_model = rfc.fit(train_data)\n",
    "gbt_model = gbt.fit(train_data)"
   ]
  },
  {
   "cell_type": "code",
   "execution_count": 19,
   "metadata": {},
   "outputs": [],
   "source": [
    "dtc_prediction = dtc_model.transform(test_data)\n",
    "rfc_prediction = rfc_model.transform(test_data)\n",
    "gbt_prediction = gbt_model.transform(test_data)"
   ]
  },
  {
   "cell_type": "code",
   "execution_count": 22,
   "metadata": {},
   "outputs": [
    {
     "name": "stdout",
     "output_type": "stream",
     "text": [
      "+-----+--------------------+-------------+-----------+----------+\n",
      "|label|            features|rawPrediction|probability|prediction|\n",
      "+-----+--------------------+-------------+-----------+----------+\n",
      "|  0.0|(692,[121,122,123...|   [25.0,0.0]|  [1.0,0.0]|       0.0|\n",
      "|  0.0|(692,[122,123,124...|   [25.0,0.0]|  [1.0,0.0]|       0.0|\n",
      "|  0.0|(692,[122,123,148...|   [25.0,0.0]|  [1.0,0.0]|       0.0|\n",
      "|  0.0|(692,[123,124,125...|   [25.0,0.0]|  [1.0,0.0]|       0.0|\n",
      "|  0.0|(692,[124,125,126...|   [25.0,0.0]|  [1.0,0.0]|       0.0|\n",
      "+-----+--------------------+-------------+-----------+----------+\n",
      "only showing top 5 rows\n",
      "\n",
      "+-----+--------------------+-------------+-----------+----------+\n",
      "|label|            features|rawPrediction|probability|prediction|\n",
      "+-----+--------------------+-------------+-----------+----------+\n",
      "|  0.0|(692,[121,122,123...|   [97.0,3.0]|[0.97,0.03]|       0.0|\n",
      "|  0.0|(692,[122,123,124...|   [98.0,2.0]|[0.98,0.02]|       0.0|\n",
      "|  0.0|(692,[122,123,148...|  [83.0,17.0]|[0.83,0.17]|       0.0|\n",
      "|  0.0|(692,[123,124,125...|  [100.0,0.0]|  [1.0,0.0]|       0.0|\n",
      "|  0.0|(692,[124,125,126...|   [98.0,2.0]|[0.98,0.02]|       0.0|\n",
      "+-----+--------------------+-------------+-----------+----------+\n",
      "only showing top 5 rows\n",
      "\n",
      "+-----+--------------------+--------------------+--------------------+----------+\n",
      "|label|            features|       rawPrediction|         probability|prediction|\n",
      "+-----+--------------------+--------------------+--------------------+----------+\n",
      "|  0.0|(692,[121,122,123...|[1.54350200272498...|[0.95635347857270...|       0.0|\n",
      "|  0.0|(692,[122,123,124...|[1.54350200272498...|[0.95635347857270...|       0.0|\n",
      "|  0.0|(692,[122,123,148...|[1.54350200272498...|[0.95635347857270...|       0.0|\n",
      "|  0.0|(692,[123,124,125...|[1.54350200272498...|[0.95635347857270...|       0.0|\n",
      "|  0.0|(692,[124,125,126...|[1.54350200272498...|[0.95635347857270...|       0.0|\n",
      "+-----+--------------------+--------------------+--------------------+----------+\n",
      "only showing top 5 rows\n",
      "\n"
     ]
    }
   ],
   "source": [
    "dtc_prediction.show(5)\n",
    "rfc_prediction.show(5)\n",
    "gbt_prediction.show(5)"
   ]
  },
  {
   "cell_type": "code",
   "execution_count": 33,
   "metadata": {},
   "outputs": [
    {
     "name": "stdout",
     "output_type": "stream",
     "text": [
      "Decision Tree Accuracy: 1.0\n",
      "RandomForestClassifier Accuracy: 1.0\n",
      "GBTClassifier Accuracy: 1.0\n"
     ]
    }
   ],
   "source": [
    "acc_eval = MulticlassClassificationEvaluator(metricName='accuracy')\n",
    "print(f\"Decision Tree Accuracy: {acc_eval.evaluate(dtc_prediction)}\")\n",
    "\n",
    "acc_eval = MulticlassClassificationEvaluator(metricName='accuracy')\n",
    "print(f\"RandomForestClassifier Accuracy: {acc_eval.evaluate(rfc_prediction)}\")\n",
    "\n",
    "acc_eval = MulticlassClassificationEvaluator(metricName='accuracy')\n",
    "print(f\"GBTClassifier Accuracy: {acc_eval.evaluate(gbt_prediction)}\")\n",
    "# Example data is too clean since this is the documentation example"
   ]
  },
  {
   "cell_type": "code",
   "execution_count": 37,
   "metadata": {},
   "outputs": [
    {
     "data": {
      "text/plain": [
       "SparseVector(692, {150: 0.0006, 154: 0.0017, 158: 0.0005, 159: 0.0012, 180: 0.0008, 181: 0.001, 184: 0.0006, 186: 0.0004, 189: 0.0008, 207: 0.002, 208: 0.0059, 213: 0.004, 233: 0.0005, 235: 0.003, 236: 0.0058, 242: 0.0018, 243: 0.0008, 260: 0.0051, 262: 0.0083, 263: 0.0176, 265: 0.001, 266: 0.0013, 267: 0.0015, 268: 0.0006, 273: 0.0053, 288: 0.0041, 289: 0.0017, 290: 0.0182, 295: 0.0075, 299: 0.0008, 300: 0.0072, 301: 0.0085, 317: 0.0007, 319: 0.0006, 320: 0.0006, 321: 0.0005, 322: 0.0012, 323: 0.0012, 326: 0.0007, 328: 0.0075, 330: 0.0088, 342: 0.0012, 344: 0.0008, 345: 0.0082, 346: 0.0005, 349: 0.001, 350: 0.0105, 351: 0.0206, 352: 0.0002, 355: 0.0027, 358: 0.001, 359: 0.0113, 369: 0.0004, 372: 0.0167, 373: 0.0156, 374: 0.0081, 375: 0.0006, 377: 0.0007, 378: 0.0281, 379: 0.0262, 381: 0.0005, 383: 0.0018, 384: 0.0082, 385: 0.0188, 400: 0.0172, 401: 0.007, 403: 0.0007, 405: 0.0125, 406: 0.0316, 407: 0.0269, 408: 0.0007, 409: 0.0006, 411: 0.0022, 412: 0.0006, 414: 0.0072, 427: 0.009, 428: 0.0073, 429: 0.0082, 430: 0.0014, 432: 0.0054, 433: 0.002, 434: 0.0431, 435: 0.0094, 437: 0.0018, 438: 0.0014, 439: 0.0007, 441: 0.0162, 443: 0.003, 455: 0.0161, 456: 0.0081, 457: 0.0077, 458: 0.0007, 461: 0.0403, 462: 0.0458, 464: 0.0012, 468: 0.0126, 469: 0.0063, 481: 0.0006, 483: 0.0093, 484: 0.0248, 485: 0.0128, 486: 0.0007, 488: 0.0006, 489: 0.0417, 490: 0.0119, 495: 0.0046, 496: 0.0144, 499: 0.0006, 511: 0.0436, 512: 0.016, 514: 0.0007, 517: 0.0305, 518: 0.0063, 538: 0.0079, 539: 0.0258, 540: 0.0022, 541: 0.0052, 545: 0.0039, 546: 0.0009, 549: 0.008, 550: 0.0062, 554: 0.0006, 567: 0.0069, 568: 0.0077, 570: 0.0009, 577: 0.0085, 579: 0.0007, 597: 0.0056, 600: 0.0004, 606: 0.0001, 609: 0.0006, 620: 0.0006, 627: 0.0017, 628: 0.0006, 629: 0.0005, 632: 0.0004, 635: 0.0013, 637: 0.0027, 686: 0.0006})"
      ]
     },
     "execution_count": 37,
     "metadata": {},
     "output_type": "execute_result"
    }
   ],
   "source": [
    "rfc_model.featureImportances # Keep this method in mind in the future"
   ]
  },
  {
   "cell_type": "code",
   "execution_count": null,
   "metadata": {},
   "outputs": [],
   "source": []
  }
 ],
 "metadata": {
  "kernelspec": {
   "display_name": "Python 3",
   "language": "python",
   "name": "python3"
  },
  "language_info": {
   "codemirror_mode": {
    "name": "ipython",
    "version": 3
   },
   "file_extension": ".py",
   "mimetype": "text/x-python",
   "name": "python",
   "nbconvert_exporter": "python",
   "pygments_lexer": "ipython3",
   "version": "3.8.2"
  }
 },
 "nbformat": 4,
 "nbformat_minor": 4
}
