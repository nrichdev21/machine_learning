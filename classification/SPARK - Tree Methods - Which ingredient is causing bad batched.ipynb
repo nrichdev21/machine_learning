{
 "cells": [
  {
   "cell_type": "code",
   "execution_count": 56,
   "metadata": {},
   "outputs": [],
   "source": [
    "import findspark\n",
    "findspark.init('/home/nick/spark-3.0.1-bin-hadoop2.7')\n",
    "\n",
    "from pyspark.sql import SparkSession\n",
    "from pyspark.sql.functions import count, when, isnan, isnull\n",
    "from pyspark.ml.feature import VectorAssembler\n",
    "from pyspark.ml.classification import RandomForestClassifier, DecisionTreeClassifier, GBTClassifier, DecisionTreeClassificationModel\n",
    "from pyspark.ml.evaluation import BinaryClassificationEvaluator, MulticlassClassificationEvaluator\n",
    "\n",
    "spark = SparkSession.builder.appName('Dog Food').getOrCreate()"
   ]
  },
  {
   "cell_type": "code",
   "execution_count": 45,
   "metadata": {},
   "outputs": [],
   "source": [
    "data = spark.read.csv('Tree_Methods/dog_food.csv', inferSchema=True, header=True)"
   ]
  },
  {
   "cell_type": "code",
   "execution_count": 46,
   "metadata": {},
   "outputs": [
    {
     "name": "stdout",
     "output_type": "stream",
     "text": [
      "+---+---+---+---+-------+\n",
      "|  A|  B|  C|  D|Spoiled|\n",
      "+---+---+---+---+-------+\n",
      "|  0|  0|  0|  0|      0|\n",
      "+---+---+---+---+-------+\n",
      "\n",
      "+---+---+---+---+-------+\n",
      "|  A|  B|  C|  D|Spoiled|\n",
      "+---+---+---+---+-------+\n",
      "|  0|  0|  0|  0|      0|\n",
      "+---+---+---+---+-------+\n",
      "\n"
     ]
    }
   ],
   "source": [
    "# Check for missing data\n",
    "data.select([count(when(isnan(c), c)).alias(c) for c in data.columns]).show()\n",
    "data.select([count(when(isnull(c), c)).alias(c) for c in data.columns]).show()"
   ]
  },
  {
   "cell_type": "code",
   "execution_count": 47,
   "metadata": {},
   "outputs": [
    {
     "name": "stdout",
     "output_type": "stream",
     "text": [
      "root\n",
      " |-- A: integer (nullable = true)\n",
      " |-- B: integer (nullable = true)\n",
      " |-- C: double (nullable = true)\n",
      " |-- D: integer (nullable = true)\n",
      " |-- Spoiled: double (nullable = true)\n",
      "\n",
      "+---+---+----+---+-------+\n",
      "|  A|  B|   C|  D|Spoiled|\n",
      "+---+---+----+---+-------+\n",
      "|  4|  2|12.0|  3|    1.0|\n",
      "|  5|  6|12.0|  7|    1.0|\n",
      "|  6|  2|13.0|  6|    1.0|\n",
      "|  4|  2|12.0|  1|    1.0|\n",
      "|  4|  2|12.0|  3|    1.0|\n",
      "+---+---+----+---+-------+\n",
      "only showing top 5 rows\n",
      "\n",
      "+-------+------------------+------------------+------------------+------------------+-------------------+\n",
      "|summary|                 A|                 B|                 C|                 D|            Spoiled|\n",
      "+-------+------------------+------------------+------------------+------------------+-------------------+\n",
      "|  count|               490|               490|               490|               490|                490|\n",
      "|   mean|  5.53469387755102| 5.504081632653061| 9.126530612244897| 5.579591836734694| 0.2857142857142857|\n",
      "| stddev|2.9515204234399057|2.8537966089662063|2.0555451971054275|2.8548369309982857|0.45221563164613465|\n",
      "|    min|                 1|                 1|               5.0|                 1|                0.0|\n",
      "|    max|                10|                10|              14.0|                10|                1.0|\n",
      "+-------+------------------+------------------+------------------+------------------+-------------------+\n",
      "\n"
     ]
    }
   ],
   "source": [
    "data.printSchema()\n",
    "data.show(5)\n",
    "data.describe().show()"
   ]
  },
  {
   "cell_type": "code",
   "execution_count": 48,
   "metadata": {},
   "outputs": [
    {
     "data": {
      "text/plain": [
       "['A', 'B', 'C', 'D', 'Spoiled']"
      ]
     },
     "execution_count": 48,
     "metadata": {},
     "output_type": "execute_result"
    }
   ],
   "source": [
    "data.columns"
   ]
  },
  {
   "cell_type": "code",
   "execution_count": 49,
   "metadata": {},
   "outputs": [],
   "source": [
    "feature_columns = data.columns[:-1]\n",
    "label_column = data.columns[-1]"
   ]
  },
  {
   "cell_type": "code",
   "execution_count": 50,
   "metadata": {},
   "outputs": [],
   "source": [
    "assembler = VectorAssembler(inputCols=feature_columns, outputCol='features')\n",
    "output = assembler.transform(data)"
   ]
  },
  {
   "cell_type": "code",
   "execution_count": 58,
   "metadata": {},
   "outputs": [
    {
     "name": "stdout",
     "output_type": "stream",
     "text": [
      "+---+---+----+---+-------+------------------+-------------+-----------+----------+\n",
      "|  A|  B|   C|  D|Spoiled|          features|rawPrediction|probability|prediction|\n",
      "+---+---+----+---+-------+------------------+-------------+-----------+----------+\n",
      "|  4|  2|12.0|  3|    1.0|[4.0,2.0,12.0,3.0]|   [0.0,94.0]|  [0.0,1.0]|       1.0|\n",
      "|  5|  6|12.0|  7|    1.0|[5.0,6.0,12.0,7.0]|   [0.0,94.0]|  [0.0,1.0]|       1.0|\n",
      "|  6|  2|13.0|  6|    1.0|[6.0,2.0,13.0,6.0]|   [0.0,94.0]|  [0.0,1.0]|       1.0|\n",
      "|  4|  2|12.0|  1|    1.0|[4.0,2.0,12.0,1.0]|   [0.0,94.0]|  [0.0,1.0]|       1.0|\n",
      "|  4|  2|12.0|  3|    1.0|[4.0,2.0,12.0,3.0]|   [0.0,94.0]|  [0.0,1.0]|       1.0|\n",
      "+---+---+----+---+-------+------------------+-------------+-----------+----------+\n",
      "only showing top 5 rows\n",
      "\n"
     ]
    },
    {
     "data": {
      "text/plain": [
       "0.9857142857142858"
      ]
     },
     "execution_count": 58,
     "metadata": {},
     "output_type": "execute_result"
    }
   ],
   "source": [
    "dtc_model = DecisionTreeClassifier(labelCol='Spoiled').fit(output)\n",
    "results = dtc_model.transform(output)\n",
    "results.show(5)\n",
    "\n",
    "multiclass_eval = MulticlassClassificationEvaluator(labelCol='Spoiled', metricName='accuracy')\n",
    "multiclass_eval.evaluate(results)"
   ]
  },
  {
   "cell_type": "code",
   "execution_count": 60,
   "metadata": {},
   "outputs": [
    {
     "name": "stdout",
     "output_type": "stream",
     "text": [
      "+---+---+----+---+-------+------------------+--------------------+--------------------+----------+\n",
      "|  A|  B|   C|  D|Spoiled|          features|       rawPrediction|         probability|prediction|\n",
      "+---+---+----+---+-------+------------------+--------------------+--------------------+----------+\n",
      "|  4|  2|12.0|  3|    1.0|[4.0,2.0,12.0,3.0]|[0.77037459556500...|[0.03851872977825...|       1.0|\n",
      "|  5|  6|12.0|  7|    1.0|[5.0,6.0,12.0,7.0]|[0.08734733734733...|[0.00436736686736...|       1.0|\n",
      "|  6|  2|13.0|  6|    1.0|[6.0,2.0,13.0,6.0]|[0.83770219550129...|[0.04188510977506...|       1.0|\n",
      "|  4|  2|12.0|  1|    1.0|[4.0,2.0,12.0,1.0]|[0.77037459556500...|[0.03851872977825...|       1.0|\n",
      "|  4|  2|12.0|  3|    1.0|[4.0,2.0,12.0,3.0]|[0.77037459556500...|[0.03851872977825...|       1.0|\n",
      "+---+---+----+---+-------+------------------+--------------------+--------------------+----------+\n",
      "only showing top 5 rows\n",
      "\n"
     ]
    },
    {
     "data": {
      "text/plain": [
       "0.9857142857142858"
      ]
     },
     "execution_count": 60,
     "metadata": {},
     "output_type": "execute_result"
    }
   ],
   "source": [
    "# Now use Random Forest\n",
    "rfc_model = RandomForestClassifier(labelCol='Spoiled').fit(output)\n",
    "results = rfc_model.transform(output)\n",
    "results.show(5)\n",
    "\n",
    "multiclass_eval = MulticlassClassificationEvaluator(labelCol='Spoiled', metricName='accuracy')\n",
    "multiclass_eval.evaluate(results)"
   ]
  },
  {
   "cell_type": "code",
   "execution_count": 63,
   "metadata": {},
   "outputs": [
    {
     "data": {
      "text/plain": [
       "SparseVector(4, {1: 0.0019, 2: 0.9832, 3: 0.0149})"
      ]
     },
     "execution_count": 63,
     "metadata": {},
     "output_type": "execute_result"
    }
   ],
   "source": [
    "dtc_model.featureImportances"
   ]
  },
  {
   "cell_type": "code",
   "execution_count": 64,
   "metadata": {},
   "outputs": [
    {
     "data": {
      "text/plain": [
       "SparseVector(4, {0: 0.0157, 1: 0.0157, 2: 0.9522, 3: 0.0165})"
      ]
     },
     "execution_count": 64,
     "metadata": {},
     "output_type": "execute_result"
    }
   ],
   "source": [
    "rfc_model.featureImportances"
   ]
  },
  {
   "cell_type": "code",
   "execution_count": null,
   "metadata": {},
   "outputs": [],
   "source": [
    "# Ingredient C is causing the issues."
   ]
  }
 ],
 "metadata": {
  "kernelspec": {
   "display_name": "Python 3",
   "language": "python",
   "name": "python3"
  },
  "language_info": {
   "codemirror_mode": {
    "name": "ipython",
    "version": 3
   },
   "file_extension": ".py",
   "mimetype": "text/x-python",
   "name": "python",
   "nbconvert_exporter": "python",
   "pygments_lexer": "ipython3",
   "version": "3.8.2"
  }
 },
 "nbformat": 4,
 "nbformat_minor": 4
}
