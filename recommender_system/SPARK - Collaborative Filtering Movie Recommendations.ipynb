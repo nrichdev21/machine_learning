{
 "cells": [
  {
   "cell_type": "code",
   "execution_count": 11,
   "metadata": {},
   "outputs": [],
   "source": [
    "import findspark\n",
    "findspark.init('/home/nick/spark-3.0.1-bin-hadoop2.7')\n",
    "\n",
    "from pyspark.sql import SparkSession\n",
    "from pyspark.ml.recommendation import ALS # Alternating least Squares\n",
    "from pyspark.ml.evaluation import RegressionEvaluator\n",
    "from pyspark.sql.functions import countDistinct\n",
    "\n",
    "spark = SparkSession.builder.appName(\"recommender system\").getOrCreate()"
   ]
  },
  {
   "cell_type": "code",
   "execution_count": 12,
   "metadata": {},
   "outputs": [],
   "source": [
    "movie_data = spark.read.csv('Recommender_Systems/movielens_ratings.csv', inferSchema=True, header=True)"
   ]
  },
  {
   "cell_type": "code",
   "execution_count": 17,
   "metadata": {},
   "outputs": [
    {
     "name": "stdout",
     "output_type": "stream",
     "text": [
      "+-------+------+------+\n",
      "|movieId|rating|userId|\n",
      "+-------+------+------+\n",
      "|      2|   3.0|     0|\n",
      "|      3|   1.0|     0|\n",
      "|      5|   2.0|     0|\n",
      "|      9|   4.0|     0|\n",
      "|     11|   1.0|     0|\n",
      "|     12|   2.0|     0|\n",
      "|     15|   1.0|     0|\n",
      "|     17|   1.0|     0|\n",
      "|     19|   1.0|     0|\n",
      "|     21|   1.0|     0|\n",
      "|     23|   1.0|     0|\n",
      "|     26|   3.0|     0|\n",
      "|     27|   1.0|     0|\n",
      "|     28|   1.0|     0|\n",
      "|     29|   1.0|     0|\n",
      "|     30|   1.0|     0|\n",
      "|     31|   1.0|     0|\n",
      "|     34|   1.0|     0|\n",
      "|     37|   1.0|     0|\n",
      "|     41|   2.0|     0|\n",
      "+-------+------+------+\n",
      "only showing top 20 rows\n",
      "\n",
      "+------+-----+\n",
      "|rating|count|\n",
      "+------+-----+\n",
      "|   1.0|  941|\n",
      "|   4.0|   99|\n",
      "|   3.0|  179|\n",
      "|   2.0|  207|\n",
      "|   5.0|   75|\n",
      "+------+-----+\n",
      "\n",
      "+----------------------+\n",
      "|count(DISTINCT userId)|\n",
      "+----------------------+\n",
      "|                    30|\n",
      "+----------------------+\n",
      "\n",
      "+-------+------------------+------------------+------------------+\n",
      "|summary|           movieId|            rating|            userId|\n",
      "+-------+------------------+------------------+------------------+\n",
      "|  count|              1501|              1501|              1501|\n",
      "|   mean| 49.40572951365756|1.7741505662891406|14.383744170552964|\n",
      "| stddev|28.937034065088994| 1.187276166124803| 8.591040424293272|\n",
      "|    min|                 0|               1.0|                 0|\n",
      "|    max|                99|               5.0|                29|\n",
      "+-------+------------------+------------------+------------------+\n",
      "\n"
     ]
    }
   ],
   "source": [
    "movie_data.show()\n",
    "movie_data.groupby('rating').count().show()\n",
    "movie_data.select(countDistinct('userId')).show()\n",
    "movie_data.describe().show()"
   ]
  },
  {
   "cell_type": "code",
   "execution_count": 39,
   "metadata": {},
   "outputs": [],
   "source": [
    "train_data, test_data = movie_data.randomSplit([0.8,0.2])"
   ]
  },
  {
   "cell_type": "code",
   "execution_count": 40,
   "metadata": {},
   "outputs": [],
   "source": [
    "als = ALS(maxIter=10, regParam=0.01,  userCol='userId', itemCol='movieId', ratingCol='rating')"
   ]
  },
  {
   "cell_type": "code",
   "execution_count": 41,
   "metadata": {},
   "outputs": [],
   "source": [
    "model = als.fit(train_data)"
   ]
  },
  {
   "cell_type": "code",
   "execution_count": 42,
   "metadata": {},
   "outputs": [],
   "source": [
    "predictions = model.transform(test_data)"
   ]
  },
  {
   "cell_type": "code",
   "execution_count": 43,
   "metadata": {},
   "outputs": [
    {
     "name": "stdout",
     "output_type": "stream",
     "text": [
      "+-------+------+------+-----------+\n",
      "|movieId|rating|userId| prediction|\n",
      "+-------+------+------+-----------+\n",
      "|     31|   1.0|    13|   0.612427|\n",
      "|     31|   1.0|     4|  0.6098734|\n",
      "|     31|   3.0|     8|  1.8484888|\n",
      "|     31|   3.0|    14| 0.79039633|\n",
      "|     31|   1.0|    18|  0.9149922|\n",
      "|     85|   1.0|    28|-0.67487264|\n",
      "|     85|   1.0|    13|  2.5853167|\n",
      "|     85|   5.0|    16|  4.8508406|\n",
      "|     85|   1.0|    23|  2.2312508|\n",
      "|     85|   1.0|    25|   5.131492|\n",
      "|     85|   1.0|     2| -0.6372662|\n",
      "|     65|   1.0|    28| -1.3168619|\n",
      "|     53|   3.0|    13|   1.686669|\n",
      "|     53|   1.0|     6|  2.0852034|\n",
      "|     53|   3.0|    20|  1.3630657|\n",
      "|     53|   5.0|    21|  2.2151296|\n",
      "|     78|   1.0|    28|   1.169109|\n",
      "|     78|   1.0|     4|    1.18008|\n",
      "|     34|   3.0|     3|-0.44644502|\n",
      "|     34|   1.0|    17| -1.7349743|\n",
      "+-------+------+------+-----------+\n",
      "only showing top 20 rows\n",
      "\n"
     ]
    }
   ],
   "source": [
    "predictions.show()"
   ]
  },
  {
   "cell_type": "code",
   "execution_count": 44,
   "metadata": {},
   "outputs": [],
   "source": [
    "evaluator = RegressionEvaluator(metricName='rmse', labelCol='rating', predictionCol='prediction')"
   ]
  },
  {
   "cell_type": "code",
   "execution_count": 45,
   "metadata": {},
   "outputs": [
    {
     "data": {
      "text/plain": [
       "1.7977467704453953"
      ]
     },
     "execution_count": 45,
     "metadata": {},
     "output_type": "execute_result"
    }
   ],
   "source": [
    "rmse = evaluator.evaluate(predictions)\n",
    "rmse"
   ]
  },
  {
   "cell_type": "code",
   "execution_count": 55,
   "metadata": {},
   "outputs": [
    {
     "name": "stdout",
     "output_type": "stream",
     "text": [
      "+-------+------+\n",
      "|movieId|userId|\n",
      "+-------+------+\n",
      "|     13|    11|\n",
      "|     19|    11|\n",
      "|     20|    11|\n",
      "|     39|    11|\n",
      "|     48|    11|\n",
      "|     50|    11|\n",
      "|     51|    11|\n",
      "|     70|    11|\n",
      "|     81|    11|\n",
      "|     90|    11|\n",
      "+-------+------+\n",
      "\n"
     ]
    }
   ],
   "source": [
    "single_user = test_data.filter(test_data['userId']==11).select(['movieId','userId'])\n",
    "single_user.show()"
   ]
  },
  {
   "cell_type": "code",
   "execution_count": 56,
   "metadata": {},
   "outputs": [],
   "source": [
    "recommendations = model.transform(single_user)"
   ]
  },
  {
   "cell_type": "code",
   "execution_count": 57,
   "metadata": {},
   "outputs": [
    {
     "name": "stdout",
     "output_type": "stream",
     "text": [
      "+-------+------+------------+\n",
      "|movieId|userId|  prediction|\n",
      "+-------+------+------------+\n",
      "|     90|    11|    5.386259|\n",
      "|     39|    11|    2.104312|\n",
      "|     81|    11|   1.7430375|\n",
      "|     13|    11|   1.6104313|\n",
      "|     19|    11|   1.4317605|\n",
      "|     48|    11|   1.0173107|\n",
      "|     70|    11|  0.21902251|\n",
      "|     50|    11|-0.016211554|\n",
      "|     20|    11|   -1.353533|\n",
      "|     51|    11|  -2.4360964|\n",
      "+-------+------+------------+\n",
      "\n"
     ]
    }
   ],
   "source": [
    "recommendations.orderBy('prediction', ascending=False).show()"
   ]
  },
  {
   "cell_type": "code",
   "execution_count": null,
   "metadata": {},
   "outputs": [],
   "source": []
  }
 ],
 "metadata": {
  "kernelspec": {
   "display_name": "Python 3",
   "language": "python",
   "name": "python3"
  },
  "language_info": {
   "codemirror_mode": {
    "name": "ipython",
    "version": 3
   },
   "file_extension": ".py",
   "mimetype": "text/x-python",
   "name": "python",
   "nbconvert_exporter": "python",
   "pygments_lexer": "ipython3",
   "version": "3.8.2"
  }
 },
 "nbformat": 4,
 "nbformat_minor": 4
}
